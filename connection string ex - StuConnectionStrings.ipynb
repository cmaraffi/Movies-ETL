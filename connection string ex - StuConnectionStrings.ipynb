{
 "cells": [
  {
   "cell_type": "code",
   "execution_count": 1,
   "metadata": {},
   "outputs": [
    {
     "name": "stdout",
     "output_type": "stream",
     "text": [
      "mysql://admin:p@ssw0rd123@rds.us-east-2.amazonaws.com:3306/example\n"
     ]
    }
   ],
   "source": [
    "protocol = \"mysql\"\n",
    "user = \"admin\"\n",
    "password = \"p@ssw0rd123\"\n",
    "location = \"rds.us-east-2.amazonaws.com\"\n",
    "port = \"3306\"\n",
    "database = \"example\"\n",
    "\n",
    "connection_string = f\"{protocol}://{user}:{password}@{location}:{port}/{database}\"\n",
    "print(connection_string)"
   ]
  },
  {
   "cell_type": "code",
   "execution_count": null,
   "metadata": {},
   "outputs": [],
   "source": []
  }
 ],
 "metadata": {
  "kernelspec": {
   "display_name": "Python 3",
   "language": "python",
   "name": "python3"
  },
  "language_info": {
   "codemirror_mode": {
    "name": "ipython",
    "version": 3
   },
   "file_extension": ".py",
   "mimetype": "text/x-python",
   "name": "python",
   "nbconvert_exporter": "python",
   "pygments_lexer": "ipython3",
   "version": "3.7.7"
  }
 },
 "nbformat": 4,
 "nbformat_minor": 4
}
